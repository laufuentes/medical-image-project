{
 "cells": [
  {
   "cell_type": "code",
   "execution_count": 2,
   "metadata": {},
   "outputs": [],
   "source": [
    "import numpy as np"
   ]
  },
  {
   "cell_type": "markdown",
   "metadata": {},
   "source": [
    "# Globally Convex Segmentation"
   ]
  },
  {
   "cell_type": "code",
   "execution_count": null,
   "metadata": {},
   "outputs": [],
   "source": [
    "class ImageForce:\n",
    "    def __init__(self, image, foreground_mask) -> None:\n",
    "        self._image = image\n",
    "        self._foreground_mask = foreground_mask\n",
    "        self._background_mask = 1 - foreground_mask\n",
    "        self._r = None\n",
    "\n",
    "    def get_force(self):\n",
    "        if self._r is None:\n",
    "            self._r = self._compute_force()\n",
    "        return self._r\n",
    "\n",
    "class Force1(ImageForce):\n",
    "    def __init__(self, image, foreground_mask, k0, k1) -> None:\n",
    "        super().__init__(image, foreground_mask)\n",
    "        self._k0 = k0\n",
    "        self._k1 = k1\n",
    "        self._mean_value_foreground = np.mean(image[self._foreground_mask])\n",
    "        self._mean_value_background = np.mean(image[self._background_mask])\n",
    "\n",
    "    def compute_force(self):\n",
    "        return self._k1 * (self._image - self._mean_value_foreground) ** 2 - self._k0 * (self._image - self._mean_value_background) ** 2\n",
    "\n",
    "class SplitBregmanGCS():\n",
    "    # without any update on the coefficients, if this okey (?)\n",
    "\n",
    "    def __init__(self, force, initial_level_set, lambda_value, epsilon_value) -> None:\n",
    "        self._force = force\n",
    "        self._initial_level_set = initial_level_set\n",
    "        self._lambda_value = lambda_value\n",
    "        self._epsilon_value = epsilon_value\n",
    "\n",
    "    def GaussSeidelGCS(self, r, d, b):\n",
    "        pass\n",
    "    \n",
    "    def shrink(self, z):\n",
    "        return np.max(np.linalg.norm(z) - self._lambda_value, 0) * z / np.linalg.norm(z)\n",
    "    \n",
    "    def run(self):\n",
    "        level_set_found = False\n",
    "        u = self._initial_level_set\n",
    "        d = None # i dont have really clear how to initialize\n",
    "        b = None\n",
    "        last_u = u\n",
    "        while not level_set_found:\n",
    "            r = self._force.get_force()\n",
    "            u = self.GaussSeidelGCS(r, d, b)\n",
    "            grad_u = np.gradient(u)\n",
    "            d = self.shrink(grad_u + b)\n",
    "            b = b + grad_u - d\n",
    "            level_set_found = np.linalg.norm(u -last_u) < self._epsilon_value\n",
    "            last_u = u\n",
    "        return u\n",
    "\n",
    "\n",
    "\n",
    "            \n",
    "    \n",
    "\n",
    "\n"
   ]
  },
  {
   "cell_type": "markdown",
   "metadata": {},
   "source": [
    "\n",
    "\n",
    "    \n"
   ]
  }
 ],
 "metadata": {
  "kernelspec": {
   "display_name": ".venv",
   "language": "python",
   "name": "python3"
  },
  "language_info": {
   "codemirror_mode": {
    "name": "ipython",
    "version": 3
   },
   "file_extension": ".py",
   "mimetype": "text/x-python",
   "name": "python",
   "nbconvert_exporter": "python",
   "pygments_lexer": "ipython3",
   "version": "3.11.5"
  }
 },
 "nbformat": 4,
 "nbformat_minor": 2
}
